{
  "nbformat": 4,
  "nbformat_minor": 0,
  "metadata": {
    "colab": {
      "name": "Untitled11.ipynb",
      "provenance": []
    },
    "kernelspec": {
      "name": "python3",
      "display_name": "Python 3"
    },
    "language_info": {
      "name": "python"
    }
  },
  "cells": [
    {
      "cell_type": "code",
      "metadata": {
        "id": "HMvRHM-Cw7f5"
      },
      "source": [
        "import pandas as pd\n"
      ],
      "execution_count": 1,
      "outputs": []
    },
    {
      "cell_type": "code",
      "metadata": {
        "id": "hCzCqQ5AxRj1"
      },
      "source": [
        "df_vizinhanca = pd.read_csv(\"mapeamento_vizinhanca.csv\", delimiter=\";\").dropna().drop_duplicates()\n",
        "df_airbnb = pd.read_csv(\"airbnb_ny_2019.csv\", delimiter=\",\").dropna().drop_duplicates()\n"
      ],
      "execution_count": 108,
      "outputs": []
    },
    {
      "cell_type": "code",
      "metadata": {
        "id": "C5iG25Ukxg2A"
      },
      "source": [
        "dfJoin = df_airbnb.join(df_vizinhanca.set_index(\"vizinhanca\"), on=\"neighbourhood\")"
      ],
      "execution_count": 111,
      "outputs": []
    },
    {
      "cell_type": "code",
      "metadata": {
        "id": "5pAr78mj1Y2m"
      },
      "source": [
        "dfJoin = dfJoin.drop(\"neighbourhood\", axis=1).rename(columns={\"vizinhanca_grupo\": \"neighbourhood_group\"}).query(\"neighbourhood_group in ['Brooklyn', 'Manhattan', 'Queens', 'Staten Island']\")\n",
        "dfJoin.to_csv(\"residencias.csv\")\n"
      ],
      "execution_count": 113,
      "outputs": []
    },
    {
      "cell_type": "code",
      "metadata": {
        "id": "atPpzGGi_VBM"
      },
      "source": [
        "df_residencias = pd.read_csv(\"residencias.csv\").groupby([\"room_type\", \"neighbourhood_group\"])['price'].mean()\n",
        "df_residencias\n",
        "\n",
        "df_residencias.to_csv(\"edia_preco.csv\")"
      ],
      "execution_count": 129,
      "outputs": []
    }
  ]
}